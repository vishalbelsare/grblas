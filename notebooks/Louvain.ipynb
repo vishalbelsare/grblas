{
 "cells": [
  {
   "cell_type": "code",
   "execution_count": null,
   "metadata": {},
   "outputs": [],
   "source": [
    "import random\n",
    "import numpy as np\n",
    "import pandas as pd\n",
    "import networkx as nx\n",
    "import matplotlib.pyplot as plt\n",
    "from collections import namedtuple\n",
    "from scipy.sparse import csr_array\n",
    "import graphblas as gb\n",
    "from graphblas import Matrix, Vector, Scalar\n",
    "from graphblas import dtypes\n",
    "from graphblas import unary, binary, monoid, semiring"
   ]
  },
  {
   "cell_type": "markdown",
   "metadata": {},
   "source": [
    "# Louvain Community Detection\n",
    "\n",
    "https://en.wikipedia.org/wiki/Louvain_modularity\n",
    "\n",
    "This will return a list of progressively smaller graphs, sort of like zooming out in a map and having houses collapse into a neighborhood and neighborhoods collapse into cities"
   ]
  },
  {
   "cell_type": "code",
   "execution_count": null,
   "metadata": {},
   "outputs": [],
   "source": [
    "class AdjMatrix:\n",
    "    def __init__(self, adj):\n",
    "        # Pre-define memory needed by GraphBLAS computations\n",
    "        nn = adj.nrows\n",
    "        nc = nn + 1  # comms should always be (n+1 x n)\n",
    "        self.adj = adj\n",
    "        self.nn = nn\n",
    "        self.nc = nc\n",
    "        self.total_links_doubled = adj.reduce_scalar(monoid.plus, allow_empty=False).new()\n",
    "        self.community_tmp = Matrix(adj.dtype, nrows=nc, ncols=nn)\n",
    "        self.community = Matrix(adj.dtype, nrows=nc, ncols=nc)\n",
    "        self.diag_mask = Matrix.from_coo(\n",
    "            range(nc), range(nc), [True] * nc, nrows=nc, ncols=nc, dtype=dtypes.BOOL\n",
    "        )\n",
    "        self.diag_matrix = Matrix(adj.dtype, nrows=nc, ncols=nc)\n",
    "        self.diag_vector = Vector(adj.dtype, size=nc)\n",
    "        self.modularity = Vector(dtypes.FP64, size=nc)\n",
    "        self.stored_community = Vector(dtypes.INT64, size=nc)\n",
    "        self.beyond_last_index = nn\n",
    "        self.beyond_last = Vector.from_coo([self.beyond_last_index], [1], size=nc)\n",
    "        self.ki_all = Vector(dtypes.FP64, size=nn)\n",
    "        self.ki_all << adj.reduce_columnwise(monoid.plus)\n",
    "        self.sigma_total = Vector(dtypes.FP64, size=nc)\n",
    "        self.ki_in = Vector(dtypes.FP64, size=nc)\n",
    "        self.max_modularity_delta = Scalar(dtypes.FP64)\n",
    "        self.max_mask = Vector(dtypes.BOOL, size=nc)\n",
    "        self._ident_comms = None\n",
    "\n",
    "    def _get_comms_identity(self):\n",
    "        # Build the identity matrix, assigning each node to its own community\n",
    "        if self._ident_comms is None:\n",
    "            nn, nc = self.nn, self.nc\n",
    "            self._ident_comms = Matrix.from_coo(range(nn), range(nn), [1] * nn, nrows=nc, ncols=nn)\n",
    "        return self._ident_comms\n",
    "\n",
    "    def compute_modularity(self, comms=None):\n",
    "        \"\"\"\n",
    "        Given adjacency matrix (nxn) and community matrix (cxn), compute the modularity metric\n",
    "        \"\"\"\n",
    "        adj = self.adj\n",
    "        if comms is None:\n",
    "            comms = self._get_comms_identity()\n",
    "\n",
    "        community = self.community\n",
    "        modularity = self.modularity\n",
    "\n",
    "        self.community_tmp << comms.mxm(adj)\n",
    "        community << self.community_tmp.mxm(comms.T)\n",
    "        self.diag_matrix(self.diag_mask.S) << community\n",
    "        self.diag_vector << self.diag_matrix.reduce_columnwise()  # Aij\n",
    "        modularity << community.reduce_columnwise(binary.plus)  # ki\n",
    "        modularity << modularity.ewise_mult(modularity, binary.times)  # ki^2\n",
    "        modularity << modularity.apply(binary.truediv, right=self.total_links_doubled)  # ki^2/2m\n",
    "        modularity << modularity.apply(binary.times, left=-1)  # -ki^2/2m\n",
    "        modularity << self.diag_vector.ewise_add(modularity, monoid.plus)  # Aij - ki^2/2m\n",
    "        modularity << modularity.apply(\n",
    "            binary.truediv, right=self.total_links_doubled\n",
    "        )  # (Aij - ki^2/2m) / 2m\n",
    "        result = modularity.reduce(\n",
    "            monoid.plus, allow_empty=False\n",
    "        ).new()  # (1/2m)*sum(Aij - ki^2/2m)\n",
    "\n",
    "        return result\n",
    "\n",
    "    def find_best_community(self, node, comms):\n",
    "        \"\"\"\n",
    "        Updates comms (community grouping) for node to reach max modularity\n",
    "        Returns True if node changed community. False otherwise.\n",
    "        \"\"\"\n",
    "        adj = self.adj\n",
    "        nc = self.nc\n",
    "        community = self.community\n",
    "        sigma_total = self.sigma_total\n",
    "        # Save current modularity score in current community\n",
    "        self.stored_community << comms[:, node]\n",
    "        current_community_index = self.stored_community.to_coo()[0][0]\n",
    "        orig_modularity_score = self.compute_modularity(comms)\n",
    "\n",
    "        # Move node to its own community\n",
    "        comms[:, node] << self.beyond_last\n",
    "        baseline_modularity_score = self.compute_modularity(comms)\n",
    "\n",
    "        # Compute modularity improvements for each neighbor\n",
    "        total_links_doubled = self.total_links_doubled.value\n",
    "        ki = self.ki_all[node].value\n",
    "        self.community_tmp << comms.mxm(adj)\n",
    "        community << self.community_tmp.mxm(comms.T)\n",
    "        sigma_total << community.reduce_columnwise(monoid.plus)\n",
    "        self.ki_in(~self.beyond_last.S, replace=True) << self.beyond_last.vxm(community)\n",
    "        # Compute: delta = 2*ki_in/total_links_doubled - 2*sigma_total*ki/total_links_doubled^2\n",
    "        delta = self.ki_in\n",
    "        delta << delta.apply(binary.times, right=2 / total_links_doubled)\n",
    "        sigma_total << sigma_total.apply(binary.times, right=-2 * ki / total_links_doubled**2)\n",
    "        delta << delta.ewise_mult(sigma_total, binary.plus)\n",
    "\n",
    "        # Choose best neighbor\n",
    "        max_modularity_delta = self.max_modularity_delta\n",
    "        max_modularity_delta << delta.reduce(monoid.max, allow_empty=False)\n",
    "\n",
    "        # If modularity is improved, update comms and return True\n",
    "        if (\n",
    "            max_modularity_delta.value\n",
    "            > orig_modularity_score.value - baseline_modularity_score.value\n",
    "        ):\n",
    "            self.max_mask << delta.apply(binary.eq, right=max_modularity_delta)\n",
    "            delta(self.max_mask.V, replace=True) << delta  # eliminate all but the max value(s)\n",
    "            indexes, vals = delta.to_coo()\n",
    "            best_community_index = indexes[0]\n",
    "            # Guard against reassigning a node to its existing community\n",
    "            if (\n",
    "                best_community_index != current_community_index\n",
    "                and best_community_index != self.beyond_last_index\n",
    "            ):\n",
    "                self.stored_community << comms[:, best_community_index]\n",
    "                comms[:, node] << self.stored_community\n",
    "                return True\n",
    "\n",
    "        # If modularity isn't improved, reset and return False\n",
    "        comms[:, node] << self.stored_community\n",
    "        return False\n",
    "\n",
    "    def optimize_communities(self, max_iter=20):\n",
    "        \"\"\"\n",
    "        Given an adjacency matrix `adj`, returns a compact community mapping of size cxn\n",
    "        where c is the number of communities and n is the number of nodes in the graph (i.e. adj is nxn)\n",
    "        The community mapping is done by repeatedly iterating over the nodes one by one\n",
    "        to find the best community (defined as maximizing the modularity).\n",
    "        Once an full pass over the nodes yields no changes, this will return.\n",
    "        If max_iter is reached, it will also return.\n",
    "        \"\"\"\n",
    "        adj = self.adj\n",
    "        comms = self._get_comms_identity().dup()\n",
    "        for i_iter in range(max_iter):\n",
    "            nodes = list(range(self.nn))\n",
    "            random.shuffle(nodes)\n",
    "            comms_modified = False\n",
    "            for node in nodes:\n",
    "                node_moved = self.find_best_community(node, comms)\n",
    "                if node_moved:\n",
    "                    comms_modified = True\n",
    "            if not comms_modified:\n",
    "                break\n",
    "\n",
    "        # Compact comms\n",
    "        rows, cols, vals = comms.to_coo()\n",
    "        nonzero_rows = list(sorted(set(rows)))\n",
    "        compact_comms = Matrix(comms.dtype, nrows=len(nonzero_rows), ncols=self.nn)\n",
    "        compact_comms << comms[nonzero_rows, :]\n",
    "\n",
    "        return compact_comms"
   ]
  },
  {
   "cell_type": "code",
   "execution_count": null,
   "metadata": {},
   "outputs": [],
   "source": [
    "LouvainResult = namedtuple(\"LouvainResult\", [\"adj\", \"cmap\", \"modscore\"])\n",
    "\n",
    "\n",
    "def louvain_levels(adj, max_iter=20):\n",
    "    \"\"\"\n",
    "    Returns a list of LouvainResult -- a namedtuple with\n",
    "    - adj: adjacency matrix\n",
    "    - cmap: community map matrix\n",
    "    - modscore: modularity score\n",
    "    Each item in the returned list represents one pass through the Louvain community detection algorithm.\n",
    "    The size of the adjacency matrix should shrink while the modularity score should increase.\n",
    "    \"\"\"\n",
    "    results = []\n",
    "    adj = AdjMatrix(adj)\n",
    "    while True:\n",
    "        modscore = adj.compute_modularity()\n",
    "        comms = adj.optimize_communities(max_iter)\n",
    "        results.append(LouvainResult(adj.adj, comms, modscore))\n",
    "        # Exit criteria: number of communities did not decrease\n",
    "        if comms.nrows >= adj.nn:\n",
    "            break\n",
    "        # Compress the adjacency graph\n",
    "        nc = comms.nrows\n",
    "        prev_adj = adj.adj\n",
    "        adj_tmp = Matrix(prev_adj.dtype, nrows=nc, ncols=prev_adj.nrows)\n",
    "        adj = Matrix(prev_adj.dtype, nrows=nc, ncols=nc)\n",
    "        adj_tmp << comms.mxm(prev_adj)\n",
    "        adj << adj_tmp.mxm(comms.T)\n",
    "        adj = AdjMatrix(adj)\n",
    "\n",
    "    return results"
   ]
  },
  {
   "cell_type": "code",
   "execution_count": null,
   "metadata": {},
   "outputs": [],
   "source": []
  },
  {
   "cell_type": "code",
   "execution_count": null,
   "metadata": {},
   "outputs": [],
   "source": []
  },
  {
   "cell_type": "markdown",
   "metadata": {},
   "source": [
    "## Example\n",
    "\n",
    "- Nodes 0, 1, 3, 4 are fully connected\n",
    "- Nodes 2, 5, 6 are fully connected\n",
    "- There is a single connection between nodes 2 and 4 to connect the two groups\n",
    "- All edges have a weight of 1"
   ]
  },
  {
   "cell_type": "code",
   "execution_count": null,
   "metadata": {},
   "outputs": [],
   "source": [
    "m = np.array(\n",
    "    [\n",
    "        [0, 1, 0, 1, 1, 0, 0],\n",
    "        [1, 0, 0, 1, 1, 0, 0],\n",
    "        [0, 0, 0, 0, 1, 1, 1],\n",
    "        [1, 1, 0, 0, 1, 0, 0],\n",
    "        [1, 1, 1, 1, 0, 0, 0],\n",
    "        [0, 0, 1, 0, 0, 0, 1],\n",
    "        [0, 0, 1, 0, 0, 1, 0],\n",
    "    ]\n",
    ")\n",
    "g = Matrix.from_dense(m, missing_value=0)"
   ]
  },
  {
   "cell_type": "code",
   "execution_count": null,
   "metadata": {},
   "outputs": [],
   "source": [
    "g"
   ]
  },
  {
   "cell_type": "code",
   "execution_count": null,
   "metadata": {},
   "outputs": [],
   "source": [
    "gb.viz.draw(g)"
   ]
  },
  {
   "cell_type": "code",
   "execution_count": null,
   "metadata": {},
   "outputs": [],
   "source": [
    "# Common solutions:\n",
    "# - 3 levels with modscore=[-0.07, 0.346, 0.392]\n",
    "# - 3 levels with modscore=[-0.07, 0.339, 0.375]\n",
    "# - 2 levels with modscore=[-0.15, 0.355]\n",
    "l = louvain_levels(g)\n",
    "l"
   ]
  },
  {
   "cell_type": "code",
   "execution_count": null,
   "metadata": {},
   "outputs": [],
   "source": [
    "# This is the community mapping of the original nodes (nodes on the top, communities down the side)\n",
    "l[0].cmap"
   ]
  },
  {
   "cell_type": "code",
   "execution_count": null,
   "metadata": {},
   "outputs": [],
   "source": [
    "# This is the new adjacency matrix after collapsing communities into nodes\n",
    "l[1].adj"
   ]
  },
  {
   "cell_type": "code",
   "execution_count": null,
   "metadata": {},
   "outputs": [],
   "source": [
    "l[1].modscore"
   ]
  },
  {
   "cell_type": "markdown",
   "metadata": {},
   "source": [
    "## Example\n",
    "\n",
    "https://neo4j.com/docs/graph-algorithms/current/algorithms/louvain/#algorithms-louvain-examples-stream-intermediate\n",
    "\n",
    "If the results don't match the website's clustering, try re-running."
   ]
  },
  {
   "cell_type": "code",
   "execution_count": null,
   "metadata": {},
   "outputs": [],
   "source": [
    "m = np.array(\n",
    "    [\n",
    "        [0, 1, 0, 1, 0, 1, 0, 0, 0, 0, 0, 0, 0, 0, 0],\n",
    "        [1, 0, 0, 1, 1, 0, 1, 0, 0, 0, 0, 0, 0, 0, 1],\n",
    "        [0, 0, 0, 0, 0, 1, 0, 0, 0, 0, 0, 0, 0, 0, 1],\n",
    "        [1, 1, 0, 0, 0, 0, 0, 0, 0, 0, 1, 0, 0, 0, 0],\n",
    "        [0, 1, 0, 0, 0, 1, 0, 1, 0, 0, 0, 0, 0, 0, 1],\n",
    "        [1, 0, 1, 0, 1, 0, 1, 0, 0, 0, 0, 0, 0, 0, 0],\n",
    "        [0, 1, 0, 0, 0, 1, 0, 1, 0, 0, 0, 0, 0, 0, 0],\n",
    "        [0, 0, 0, 0, 1, 0, 1, 0, 1, 1, 0, 0, 0, 0, 0],\n",
    "        [0, 0, 0, 0, 0, 0, 0, 1, 0, 0, 1, 0, 0, 0, 0],\n",
    "        [0, 0, 0, 0, 0, 0, 0, 1, 0, 0, 1, 0, 1, 1, 0],\n",
    "        [0, 0, 0, 1, 0, 0, 0, 0, 1, 1, 0, 1, 1, 0, 0],\n",
    "        [0, 0, 0, 0, 0, 0, 0, 0, 0, 0, 1, 0, 0, 1, 0],\n",
    "        [0, 0, 0, 0, 0, 0, 0, 0, 0, 1, 1, 0, 0, 1, 0],\n",
    "        [0, 0, 0, 0, 0, 0, 0, 0, 0, 1, 0, 1, 1, 0, 0],\n",
    "        [0, 1, 1, 0, 1, 0, 0, 0, 0, 0, 0, 0, 0, 0, 0],\n",
    "    ]\n",
    ")\n",
    "g = Matrix.from_dense(m, missing_value=0)"
   ]
  },
  {
   "cell_type": "code",
   "execution_count": null,
   "metadata": {},
   "outputs": [],
   "source": [
    "# Common solutions:\n",
    "# - 2 levels with modscore=[-0.072, 0.3768]\n",
    "# - 3 levels with modscore=[-0.072, 0.376, 0.3816]\n",
    "# - 3 levels with modscore=[-0.072, 0.3296, 0.3784]\n",
    "l = louvain_levels(g)\n",
    "l"
   ]
  },
  {
   "cell_type": "code",
   "execution_count": null,
   "metadata": {},
   "outputs": [],
   "source": [
    "l[0].cmap"
   ]
  },
  {
   "cell_type": "code",
   "execution_count": null,
   "metadata": {},
   "outputs": [],
   "source": [
    "l[1].adj"
   ]
  },
  {
   "cell_type": "code",
   "execution_count": null,
   "metadata": {},
   "outputs": [],
   "source": [
    "l[1].cmap"
   ]
  },
  {
   "cell_type": "code",
   "execution_count": null,
   "metadata": {},
   "outputs": [],
   "source": [
    "l[-1].adj"
   ]
  },
  {
   "cell_type": "code",
   "execution_count": null,
   "metadata": {},
   "outputs": [],
   "source": [
    "l[-1].modscore"
   ]
  },
  {
   "cell_type": "markdown",
   "metadata": {},
   "source": [
    "## Example\n",
    "\n",
    "Figure 1 from https://arxiv.org/pdf/0803.0476.pdf\n",
    "\n",
    "If the results don't match the paper, try running it again. Because the algorithm is non-deterministic, sometimes the communities don't match the results in the paper. But often they will."
   ]
  },
  {
   "cell_type": "code",
   "execution_count": null,
   "metadata": {},
   "outputs": [],
   "source": [
    "m = np.array(\n",
    "    [\n",
    "        [0, 0, 1, 1, 1, 1, 0, 0, 0, 0, 0, 0, 0, 0, 0, 0],\n",
    "        [0, 0, 1, 0, 1, 0, 0, 1, 0, 0, 0, 0, 0, 0, 0, 0],\n",
    "        [1, 1, 0, 0, 1, 1, 1, 0, 0, 0, 0, 0, 0, 0, 0, 0],\n",
    "        [1, 0, 0, 0, 0, 0, 0, 1, 0, 0, 0, 0, 0, 0, 0, 0],\n",
    "        [1, 1, 1, 0, 0, 0, 0, 0, 0, 0, 1, 0, 0, 0, 0, 0],\n",
    "        [1, 0, 1, 0, 0, 0, 0, 1, 0, 0, 0, 1, 0, 0, 0, 0],\n",
    "        [0, 0, 1, 0, 0, 0, 0, 1, 0, 0, 0, 1, 0, 0, 0, 0],\n",
    "        [0, 1, 0, 1, 0, 1, 1, 0, 0, 0, 0, 0, 0, 0, 0, 0],\n",
    "        [0, 0, 0, 0, 0, 0, 0, 0, 0, 1, 1, 1, 0, 0, 1, 1],\n",
    "        [0, 0, 0, 0, 0, 0, 0, 0, 1, 0, 0, 0, 1, 0, 1, 0],\n",
    "        [0, 0, 0, 0, 1, 0, 0, 0, 1, 0, 0, 1, 1, 1, 1, 0],\n",
    "        [0, 0, 0, 0, 0, 1, 1, 0, 1, 0, 1, 0, 0, 1, 0, 0],\n",
    "        [0, 0, 0, 0, 0, 0, 0, 0, 0, 1, 1, 0, 0, 0, 0, 0],\n",
    "        [0, 0, 0, 0, 0, 0, 0, 0, 0, 0, 1, 1, 0, 0, 0, 0],\n",
    "        [0, 0, 0, 0, 0, 0, 0, 0, 1, 1, 1, 0, 0, 0, 0, 0],\n",
    "        [0, 0, 0, 0, 0, 0, 0, 0, 1, 0, 0, 0, 0, 0, 0, 0],\n",
    "    ]\n",
    ")\n",
    "g = Matrix.from_dense(m, missing_value=0)"
   ]
  },
  {
   "cell_type": "code",
   "execution_count": null,
   "metadata": {},
   "outputs": [],
   "source": [
    "# Common solutions:\n",
    "# - 3 levels with modscore=[-0.071, 0.346, 0.392]\n",
    "# - 3 levels with modscore=[-0.072, 0.339, 0.375]\n",
    "l = louvain_levels(g)\n",
    "l"
   ]
  },
  {
   "cell_type": "code",
   "execution_count": null,
   "metadata": {},
   "outputs": [],
   "source": [
    "l[1].adj"
   ]
  },
  {
   "cell_type": "code",
   "execution_count": null,
   "metadata": {},
   "outputs": [],
   "source": [
    "l[-1].adj"
   ]
  }
 ],
 "metadata": {
  "kernelspec": {
   "display_name": "Python 3 (ipykernel)",
   "language": "python",
   "name": "python3"
  },
  "language_info": {
   "codemirror_mode": {
    "name": "ipython",
    "version": 3
   },
   "file_extension": ".py",
   "mimetype": "text/x-python",
   "name": "python",
   "nbconvert_exporter": "python",
   "pygments_lexer": "ipython3",
   "version": "3.10.6"
  }
 },
 "nbformat": 4,
 "nbformat_minor": 4
}
