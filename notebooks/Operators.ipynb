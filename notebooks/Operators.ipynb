{
 "cells": [
  {
   "cell_type": "markdown",
   "id": "b51e208b",
   "metadata": {},
   "source": [
    "## A closer look at `UnaryOp`, `BinaryOp`, `Monoid`, and `Semiring` objects\n",
    "\n",
    "This notebook was created for the effort to unify objects from `graphblas` and `pygraphblas` to `suitesparse-graphblas`.  This is the `graphblas` perspective.\n",
    "\n",
    "For now, let's only consider builtin operations.  We'll consider user-defined objects (and user-defined types) later."
   ]
  },
  {
   "cell_type": "code",
   "execution_count": 1,
   "id": "57c6e58e",
   "metadata": {},
   "outputs": [],
   "source": [
    "import graphblas as gb\n",
    "import numpy as np"
   ]
  },
  {
   "cell_type": "markdown",
   "id": "5a358271",
   "metadata": {},
   "source": [
    "### First let's take a quick look at the \"plus\" binary operator."
   ]
  },
  {
   "cell_type": "code",
   "execution_count": 2,
   "id": "a319dab6",
   "metadata": {},
   "outputs": [],
   "source": [
    "plus = gb.binary.plus"
   ]
  },
  {
   "cell_type": "code",
   "execution_count": 3,
   "id": "0b6dd94c",
   "metadata": {},
   "outputs": [
    {
     "data": {
      "text/plain": [
       "graphblas.core.operator.BinaryOp"
      ]
     },
     "execution_count": 3,
     "metadata": {},
     "output_type": "execute_result"
    }
   ],
   "source": [
    "type(plus)"
   ]
  },
  {
   "cell_type": "code",
   "execution_count": 4,
   "id": "2893a789",
   "metadata": {},
   "outputs": [
    {
     "data": {
      "text/plain": [
       "binary.plus"
      ]
     },
     "execution_count": 4,
     "metadata": {},
     "output_type": "execute_result"
    }
   ],
   "source": [
    "plus"
   ]
  },
  {
   "cell_type": "code",
   "execution_count": 5,
   "id": "311c34e8",
   "metadata": {},
   "outputs": [
    {
     "data": {
      "text/plain": [
       "graphblas.core.operator.TypedBuiltinBinaryOp"
      ]
     },
     "execution_count": 5,
     "metadata": {},
     "output_type": "execute_result"
    }
   ],
   "source": [
    "type(plus[int])"
   ]
  },
  {
   "cell_type": "code",
   "execution_count": 6,
   "id": "7b4f4c09",
   "metadata": {},
   "outputs": [
    {
     "data": {
      "text/plain": [
       "binary.plus[INT64]"
      ]
     },
     "execution_count": 6,
     "metadata": {},
     "output_type": "execute_result"
    }
   ],
   "source": [
    "plus[int]"
   ]
  },
  {
   "cell_type": "code",
   "execution_count": 7,
   "id": "2dfed510",
   "metadata": {},
   "outputs": [
    {
     "data": {
      "text/plain": [
       "True"
      ]
     },
     "execution_count": 7,
     "metadata": {},
     "output_type": "execute_result"
    }
   ],
   "source": [
    "plus[int] == plus[\"int\"] == plus[\"INT64\"] == plus[gb.dtypes.INT64] == plus[np.int64]"
   ]
  },
  {
   "cell_type": "code",
   "execution_count": 8,
   "id": "54af0a4f",
   "metadata": {},
   "outputs": [
    {
     "data": {
      "text/plain": [
       "True"
      ]
     },
     "execution_count": 8,
     "metadata": {},
     "output_type": "execute_result"
    }
   ],
   "source": [
    "int in plus and \"int64\" in plus"
   ]
  },
  {
   "cell_type": "markdown",
   "id": "3a0ff82d",
   "metadata": {},
   "source": [
    "<hr>\n",
    "\n",
    "## `BinaryOp` attributes:\n",
    "```python\n",
    "name: str                 # Human-readable name\n",
    "monoid: Optional[Monoid]  # Monoid of the same name (or None)\n",
    "types: Dict[str, str]     # Input type to return type\n",
    "```"
   ]
  },
  {
   "cell_type": "code",
   "execution_count": 9,
   "id": "370636ba",
   "metadata": {},
   "outputs": [
    {
     "data": {
      "text/plain": [
       "'plus'"
      ]
     },
     "execution_count": 9,
     "metadata": {},
     "output_type": "execute_result"
    }
   ],
   "source": [
    "plus.name"
   ]
  },
  {
   "cell_type": "code",
   "execution_count": 10,
   "id": "c1fc76ae",
   "metadata": {},
   "outputs": [
    {
     "data": {
      "text/plain": [
       "True"
      ]
     },
     "execution_count": 10,
     "metadata": {},
     "output_type": "execute_result"
    }
   ],
   "source": [
    "plus.monoid is gb.monoid.plus"
   ]
  },
  {
   "cell_type": "code",
   "execution_count": 11,
   "id": "3ab3c79a",
   "metadata": {},
   "outputs": [
    {
     "data": {
      "text/plain": [
       "{FC32: FC32,\n",
       " FC64: FC64,\n",
       " BOOL: BOOL,\n",
       " FP32: FP32,\n",
       " FP64: FP64,\n",
       " INT16: INT16,\n",
       " INT32: INT32,\n",
       " INT64: INT64,\n",
       " INT8: INT8,\n",
       " UINT16: UINT16,\n",
       " UINT32: UINT32,\n",
       " UINT64: UINT64,\n",
       " UINT8: UINT8}"
      ]
     },
     "execution_count": 11,
     "metadata": {},
     "output_type": "execute_result"
    }
   ],
   "source": [
    "plus.types"
   ]
  },
  {
   "cell_type": "markdown",
   "id": "5035fa50",
   "metadata": {},
   "source": [
    "<hr>\n",
    "\n",
    "## `TypedBuiltinBinaryOp` attributes:\n",
    "```python\n",
    "name: str                             # Human-readable name\n",
    "monoid: Optional[TypedBuiltinMonoid]  # Monoid of the same name and type (or None)\n",
    "type: str                             # Input type\n",
    "return_type: str                      # Return type\n",
    "parent: BinaryOp                      # The \"untyped\" version of this BinaryOp\n",
    "opclass: Literal[\"BinaryOp\"]          # \"BinaryOp\" (used to determine which GraphBLAS function to call)\n",
    "gb_name: str                          # Name of the GraphBLAS C object\n",
    "gb_obj: cffi C data                   # The C object\n",
    "```\n",
    "`opclass`, `gb_name`, and `gb_obj` are (mostly) implementation details; easy to change their names or hide them."
   ]
  },
  {
   "cell_type": "code",
   "execution_count": 12,
   "id": "42af0537",
   "metadata": {},
   "outputs": [
    {
     "data": {
      "text/plain": [
       "'plus'"
      ]
     },
     "execution_count": 12,
     "metadata": {},
     "output_type": "execute_result"
    }
   ],
   "source": [
    "plus[int].name"
   ]
  },
  {
   "cell_type": "code",
   "execution_count": 13,
   "id": "83d20b43",
   "metadata": {},
   "outputs": [
    {
     "data": {
      "text/plain": [
       "True"
      ]
     },
     "execution_count": 13,
     "metadata": {},
     "output_type": "execute_result"
    }
   ],
   "source": [
    "plus[int].monoid == gb.monoid.plus[int]"
   ]
  },
  {
   "cell_type": "code",
   "execution_count": 14,
   "id": "693f25ae",
   "metadata": {},
   "outputs": [
    {
     "data": {
      "text/plain": [
       "INT64"
      ]
     },
     "execution_count": 14,
     "metadata": {},
     "output_type": "execute_result"
    }
   ],
   "source": [
    "plus[int].type"
   ]
  },
  {
   "cell_type": "code",
   "execution_count": 15,
   "id": "775715c9",
   "metadata": {},
   "outputs": [
    {
     "data": {
      "text/plain": [
       "INT64"
      ]
     },
     "execution_count": 15,
     "metadata": {},
     "output_type": "execute_result"
    }
   ],
   "source": [
    "plus[int].return_type"
   ]
  },
  {
   "cell_type": "code",
   "execution_count": 16,
   "id": "b7d0a9f1",
   "metadata": {},
   "outputs": [
    {
     "data": {
      "text/plain": [
       "True"
      ]
     },
     "execution_count": 16,
     "metadata": {},
     "output_type": "execute_result"
    }
   ],
   "source": [
    "plus[int].parent is plus"
   ]
  },
  {
   "cell_type": "code",
   "execution_count": 17,
   "id": "8d44de25",
   "metadata": {},
   "outputs": [
    {
     "data": {
      "text/plain": [
       "'BinaryOp'"
      ]
     },
     "execution_count": 17,
     "metadata": {},
     "output_type": "execute_result"
    }
   ],
   "source": [
    "plus[int].opclass"
   ]
  },
  {
   "cell_type": "code",
   "execution_count": 18,
   "id": "0e831886",
   "metadata": {},
   "outputs": [
    {
     "data": {
      "text/plain": [
       "'GrB_PLUS_INT64'"
      ]
     },
     "execution_count": 18,
     "metadata": {},
     "output_type": "execute_result"
    }
   ],
   "source": [
    "plus[int].gb_name"
   ]
  },
  {
   "cell_type": "code",
   "execution_count": 19,
   "id": "c880cced",
   "metadata": {},
   "outputs": [
    {
     "data": {
      "text/plain": [
       "<cdata 'struct GB_BinaryOp_opaque *' 0x7f3dcd7e3780>"
      ]
     },
     "execution_count": 19,
     "metadata": {},
     "output_type": "execute_result"
    }
   ],
   "source": [
    "plus[int].gb_obj"
   ]
  },
  {
   "cell_type": "markdown",
   "id": "97f498bd",
   "metadata": {},
   "source": [
    "<hr>\n",
    "\n",
    "`UnaryOp`s are just like `BinaryOp`s, but simpler (no `.monoid` attribute)\n",
    "\n",
    "## `UnaryOp` attributes:\n",
    "```python\n",
    "name: str              # Human-readable name\n",
    "types: Dict[str, str]  # Input type to return type\n",
    "```\n",
    "\n",
    "<hr>\n",
    "\n",
    "## `TypedBuiltinUnaryOp` attributes:\n",
    "```python\n",
    "name: str                    # Human-readable name\n",
    "type: str                    # Input type\n",
    "return_type: str             # Return type\n",
    "parent: UnaryOp              # The \"untyped\" version of this BinaryOp\n",
    "opclass: Literal[\"UnaryOp\"]  # \"UnaryOp\" (used to determine which GraphBLAS function to call)\n",
    "gb_name: str                 # Name of the GraphBLAS C object\n",
    "gb_obj: cffi C data          # The C object\n",
    "```"
   ]
  },
  {
   "cell_type": "code",
   "execution_count": 20,
   "id": "7e1ae925",
   "metadata": {},
   "outputs": [],
   "source": [
    "exp = gb.unary.exp"
   ]
  },
  {
   "cell_type": "code",
   "execution_count": 21,
   "id": "32f55f17",
   "metadata": {},
   "outputs": [
    {
     "data": {
      "text/plain": [
       "graphblas.core.operator.UnaryOp"
      ]
     },
     "execution_count": 21,
     "metadata": {},
     "output_type": "execute_result"
    }
   ],
   "source": [
    "type(exp)"
   ]
  },
  {
   "cell_type": "code",
   "execution_count": 22,
   "id": "07481b5e",
   "metadata": {},
   "outputs": [
    {
     "data": {
      "text/plain": [
       "graphblas.core.operator.TypedBuiltinUnaryOp"
      ]
     },
     "execution_count": 22,
     "metadata": {},
     "output_type": "execute_result"
    }
   ],
   "source": [
    "type(exp[float])"
   ]
  },
  {
   "cell_type": "code",
   "execution_count": 23,
   "id": "c11eede1",
   "metadata": {},
   "outputs": [
    {
     "data": {
      "text/plain": [
       "True"
      ]
     },
     "execution_count": 23,
     "metadata": {},
     "output_type": "execute_result"
    }
   ],
   "source": [
    "exp[float] == exp[\"float\"] == exp[\"FP64\"] == exp[np.float64] == exp[gb.dtypes.FP64]"
   ]
  },
  {
   "cell_type": "code",
   "execution_count": 24,
   "id": "6e96db65",
   "metadata": {},
   "outputs": [
    {
     "data": {
      "text/plain": [
       "'exp'"
      ]
     },
     "execution_count": 24,
     "metadata": {},
     "output_type": "execute_result"
    }
   ],
   "source": [
    "exp.name"
   ]
  },
  {
   "cell_type": "code",
   "execution_count": 25,
   "id": "dacb6231",
   "metadata": {},
   "outputs": [
    {
     "data": {
      "text/plain": [
       "{FC32: FC32,\n",
       " FC64: FC64,\n",
       " FP32: FP32,\n",
       " FP64: FP64,\n",
       " BOOL: FP32,\n",
       " INT8: FP32,\n",
       " INT16: FP32,\n",
       " UINT8: FP32,\n",
       " UINT16: FP32,\n",
       " INT32: FP64,\n",
       " INT64: FP64,\n",
       " UINT32: FP64,\n",
       " UINT64: FP64}"
      ]
     },
     "execution_count": 25,
     "metadata": {},
     "output_type": "execute_result"
    }
   ],
   "source": [
    "exp.types"
   ]
  },
  {
   "cell_type": "code",
   "execution_count": 26,
   "id": "90dab406",
   "metadata": {},
   "outputs": [
    {
     "data": {
      "text/plain": [
       "'UnaryOp'"
      ]
     },
     "execution_count": 26,
     "metadata": {},
     "output_type": "execute_result"
    }
   ],
   "source": [
    "exp[float].opclass"
   ]
  },
  {
   "cell_type": "markdown",
   "id": "1f9dad63",
   "metadata": {},
   "source": [
    "<hr>\n",
    "\n",
    "## `Monoid` attributes:\n",
    "```python\n",
    "name: str                 # Human-readable name\n",
    "binaryop: BinaryOp        # BinaryOp of the same name\n",
    "types: Dict[str, str]     # Input type to return type (this could be a set!)\n",
    "identities: Dict[str, T]  # The identity for each type (computed lazily)\n",
    "```"
   ]
  },
  {
   "cell_type": "code",
   "execution_count": 27,
   "id": "fce89a21",
   "metadata": {},
   "outputs": [],
   "source": [
    "plus = gb.monoid.plus"
   ]
  },
  {
   "cell_type": "code",
   "execution_count": 28,
   "id": "5870c297",
   "metadata": {},
   "outputs": [
    {
     "data": {
      "text/plain": [
       "'plus'"
      ]
     },
     "execution_count": 28,
     "metadata": {},
     "output_type": "execute_result"
    }
   ],
   "source": [
    "plus.name"
   ]
  },
  {
   "cell_type": "code",
   "execution_count": 29,
   "id": "7d8e06dd",
   "metadata": {},
   "outputs": [
    {
     "data": {
      "text/plain": [
       "True"
      ]
     },
     "execution_count": 29,
     "metadata": {},
     "output_type": "execute_result"
    }
   ],
   "source": [
    "plus.binaryop == gb.binary.plus"
   ]
  },
  {
   "cell_type": "code",
   "execution_count": 30,
   "id": "9a63b6cf",
   "metadata": {},
   "outputs": [
    {
     "data": {
      "text/plain": [
       "{FC32: FC32,\n",
       " FC64: FC64,\n",
       " FP32: FP32,\n",
       " FP64: FP64,\n",
       " INT16: INT16,\n",
       " INT32: INT32,\n",
       " INT64: INT64,\n",
       " INT8: INT8,\n",
       " UINT16: UINT16,\n",
       " UINT32: UINT32,\n",
       " UINT64: UINT64,\n",
       " UINT8: UINT8}"
      ]
     },
     "execution_count": 30,
     "metadata": {},
     "output_type": "execute_result"
    }
   ],
   "source": [
    "plus.types"
   ]
  },
  {
   "cell_type": "code",
   "execution_count": 31,
   "id": "13021bfe",
   "metadata": {},
   "outputs": [
    {
     "data": {
      "text/plain": [
       "{FC32: 0j,\n",
       " FC64: 0j,\n",
       " FP32: 0.0,\n",
       " FP64: 0.0,\n",
       " INT16: 0,\n",
       " INT32: 0,\n",
       " INT64: 0,\n",
       " INT8: 0,\n",
       " UINT16: 0,\n",
       " UINT32: 0,\n",
       " UINT64: 0,\n",
       " UINT8: 0}"
      ]
     },
     "execution_count": 31,
     "metadata": {},
     "output_type": "execute_result"
    }
   ],
   "source": [
    "plus.identities"
   ]
  },
  {
   "cell_type": "markdown",
   "id": "4880fded",
   "metadata": {},
   "source": [
    "<hr>\n",
    "\n",
    "## `TypedBuiltinMonoid` attributes:\n",
    "```python\n",
    "name: str                       # Human-readable name\n",
    "binaryop: TypedBuiltinBinaryOp  # BinaryOp of the same name and type\n",
    "type: str                       # Input type\n",
    "return_type: str                # Return type (same as the input type)\n",
    "identity: T                     # The identity value for this Monoid (computed lazily)\n",
    "parent: Monoid                  # The \"untyped\" version of this Monoid\n",
    "opclass: Literal[\"Monoid\"]      # \"Monoid\" (used to determine which GraphBLAS function to call)\n",
    "gb_name: str                    # Name of the GraphBLAS C object\n",
    "gb_obj: cffi C data             # The C object\n",
    "```"
   ]
  },
  {
   "cell_type": "code",
   "execution_count": 32,
   "id": "db68fe1a",
   "metadata": {},
   "outputs": [
    {
     "data": {
      "text/plain": [
       "0"
      ]
     },
     "execution_count": 32,
     "metadata": {},
     "output_type": "execute_result"
    }
   ],
   "source": [
    "plus[int].identity"
   ]
  },
  {
   "cell_type": "code",
   "execution_count": 33,
   "id": "6167c4ac",
   "metadata": {},
   "outputs": [
    {
     "data": {
      "text/plain": [
       "0.0"
      ]
     },
     "execution_count": 33,
     "metadata": {},
     "output_type": "execute_result"
    }
   ],
   "source": [
    "plus[float].identity"
   ]
  },
  {
   "cell_type": "markdown",
   "id": "79bd3577",
   "metadata": {},
   "source": [
    "<hr>\n",
    "\n",
    "## `Semiring` attributes:\n",
    "```python\n",
    "name: str              # Human-readable name\n",
    "binaryop: BinaryOp     # The BinaryOp portion of the semiring\n",
    "monoid: Monoid         # The Monoid portion of the semiring\n",
    "types: Dict[str, str]  # Input type to return type\n",
    "```\n",
    "\n",
    "<hr>\n",
    "\n",
    "## `TypedBuiltinSemiring` attributes:\n",
    "```python\n",
    "name: str                       # Human-readable name\n",
    "binaryop: TypedBuiltinBinaryOp  # BinaryOp of the same name and type\n",
    "monoid: TypedMonoid             # Monoid of the same name and type\n",
    "type: str                       # Input type\n",
    "return_type: str                # Return type (same as the input type)\n",
    "parent: Semiring                # The \"untyped\" version of this Semiring\n",
    "opclass: Literal[\"Semiring\"]    # \"Semiring\" (used to determine which GraphBLAS function to call)\n",
    "gb_name: str                    # Name of the GraphBLAS C object\n",
    "gb_obj: cffi C data             # The C object\n",
    "```"
   ]
  },
  {
   "cell_type": "code",
   "execution_count": 34,
   "id": "1e6fee95",
   "metadata": {},
   "outputs": [],
   "source": [
    "plus_land = gb.semiring.plus_land"
   ]
  },
  {
   "cell_type": "code",
   "execution_count": 35,
   "id": "678ab683",
   "metadata": {},
   "outputs": [
    {
     "data": {
      "text/plain": [
       "True"
      ]
     },
     "execution_count": 35,
     "metadata": {},
     "output_type": "execute_result"
    }
   ],
   "source": [
    "plus_land.monoid is gb.monoid.plus"
   ]
  },
  {
   "cell_type": "code",
   "execution_count": 36,
   "id": "4c1ec1ed",
   "metadata": {},
   "outputs": [
    {
     "data": {
      "text/plain": [
       "True"
      ]
     },
     "execution_count": 36,
     "metadata": {},
     "output_type": "execute_result"
    }
   ],
   "source": [
    "plus_land.binaryop is gb.binary.land"
   ]
  },
  {
   "cell_type": "code",
   "execution_count": 37,
   "id": "a05a8062",
   "metadata": {},
   "outputs": [
    {
     "data": {
      "text/plain": [
       "{FP32: FP32,\n",
       " FP64: FP64,\n",
       " INT16: INT16,\n",
       " INT32: INT32,\n",
       " INT64: INT64,\n",
       " INT8: INT8,\n",
       " UINT16: UINT16,\n",
       " UINT32: UINT32,\n",
       " UINT64: UINT64,\n",
       " UINT8: UINT8}"
      ]
     },
     "execution_count": 37,
     "metadata": {},
     "output_type": "execute_result"
    }
   ],
   "source": [
    "plus_land.types"
   ]
  },
  {
   "cell_type": "markdown",
   "id": "c570b3e5",
   "metadata": {},
   "source": [
    "<hr>\n",
    "\n",
    "## On division\n",
    "\n",
    "`C` and Python have different semantics for division.  See: https://github.com/cython/cython/wiki/enhancements-division\n",
    "\n",
    "We renamed the `binary.div` to `binary.cdiv` and added `truediv` and `floordiv` that mimic Python semantics.  This way, it is explicit which semantics are used.  This should prevent errors whether the user is coming from C or Python.\n",
    "\n",
    "We didn't do anything equivalent with `fmod`, `remainder`, or `rdiv`, but maybe we should."
   ]
  },
  {
   "cell_type": "code",
   "execution_count": 38,
   "id": "da8f8cb0",
   "metadata": {},
   "outputs": [
    {
     "data": {
      "text/plain": [
       "'GrB_DIV_INT64'"
      ]
     },
     "execution_count": 38,
     "metadata": {},
     "output_type": "execute_result"
    }
   ],
   "source": [
    "gb.binary.cdiv[int].gb_name"
   ]
  },
  {
   "cell_type": "code",
   "execution_count": 39,
   "id": "823d930e",
   "metadata": {},
   "outputs": [
    {
     "data": {
      "text/plain": [
       "'GrB_DIV_FP64'"
      ]
     },
     "execution_count": 39,
     "metadata": {},
     "output_type": "execute_result"
    }
   ],
   "source": [
    "gb.binary.truediv[int].gb_name  # reuse div, but cast int to float"
   ]
  },
  {
   "cell_type": "code",
   "execution_count": 40,
   "id": "2f8a4c37",
   "metadata": {},
   "outputs": [
    {
     "data": {
      "text/plain": [
       "'floordiv_INT64'"
      ]
     },
     "execution_count": 40,
     "metadata": {},
     "output_type": "execute_result"
    }
   ],
   "source": [
    "gb.binary.floordiv[int].gb_name  # floordiv is a UDF"
   ]
  },
  {
   "cell_type": "code",
   "execution_count": 41,
   "id": "188f4140",
   "metadata": {},
   "outputs": [
    {
     "data": {
      "text/plain": [
       "(semiring.plus_cdiv, semiring.plus_truediv, semiring.plus_floordiv)"
      ]
     },
     "execution_count": 41,
     "metadata": {},
     "output_type": "execute_result"
    }
   ],
   "source": [
    "# Semirings also updated\n",
    "gb.semiring.plus_cdiv, gb.semiring.plus_truediv, gb.semiring.plus_floordiv"
   ]
  },
  {
   "cell_type": "markdown",
   "id": "03d80877",
   "metadata": {},
   "source": [
    "<hr>\n",
    "\n",
    "## On `graphblas.op` namespace\n",
    "\n",
    "`graphblas.op` has all UnaryOps, BinaryOps, and Semirings.  This is incredibly convenient.\n",
    "The methods in `graphblas` automatically convert `BinaryOp` to `Monoid` or vice versa where appropriate.\n",
    "\n",
    "<hr>\n",
    "\n",
    "## `graphblas` operators are callable\n",
    "- Examples:\n",
    "  - `exp(A)` apply\n",
    "  - `plus(A, 1)` apply bind 2nd\n",
    "  - `plus(A | B)` ewise_add\n",
    "  - `plus(A & B)` ewise_mult\n",
    "  - `plus_times(A @ B)` mxm, etc.\n",
    "- So, we would need to make `suitesparse_graphblas` operators callable\n",
    "  - Dispatch based on type of arguments; raise if none found\n",
    "  - `graphblas` would need to register callback functions for its types"
   ]
  },
  {
   "cell_type": "markdown",
   "id": "f7f2ea6b",
   "metadata": {},
   "source": [
    "<hr>\n",
    "\n",
    "# Possible enhancements\n",
    "\n",
    "## Include commutation info for BinaryOps and Semirings\n",
    "```python\n",
    ">>> binary.le.commutes_to is binary.ge\n",
    "True\n",
    ">>> binary.plus.commutes_to is binary.plus\n",
    "True\n",
    ">>> binary.pow.commutes_to is None\n",
    "True\n",
    ">>> semiring.any_ge.commutes_to is semiring.any_le\n",
    "True\n",
    "```\n",
    "\n",
    "## Include implied type coercion in `obj.types`\n",
    "- For example, should `unary.exp` work on integer or bool types?\n",
    "  - If so, should these be in `exp.types`?\n",
    "    - Using numpy rules:\n",
    "    ```python\n",
    "{\n",
    "    \"BOOL\": \"FP32\",  # \"FP16\" if existed\n",
    "    \"INT8\": \"FP32\",  # \"FP16\" if existed\n",
    "    \"UINT8\": \"FP32\",  # \"FP16\" if existed\n",
    "    \"INT16\": \"FP32\",\n",
    "    \"UINT16\": \"FP32\",\n",
    "    \"INT32\": \"FP64\",\n",
    "    \"UINT32\": \"FP64\",\n",
    "    \"INT64\": \"FP64\",\n",
    "    \"UINT64\": \"FP64\",\n",
    "    ...\n",
    "}\n",
    "    ```\n",
    "  - `exp[float]` can always be used explicitly\n",
    "\n",
    "## Include types of left and right arguments in `obj.types`\n",
    "- For example, user-defined functions may want different types for efficiency\n",
    "- Very useful if need to support user-defined types: `(mytype, int)`\n",
    "- No need to unify dtypes, e.g., `graphblas.dtypes.unify(type1, type2)`\n",
    "- `first` binary operator on `(int, float)` types should probably return `int`\n",
    "\n",
    "## Make operators `collections.abc.Mappings`\n",
    "- For example, `isinstance(binary.plus, collections.abc.Mapping)`\n",
    "- `binary.plus.items()` would iterate over `(type, TypedBuiltinBinaryOp)` pairs"
   ]
  }
 ],
 "metadata": {
  "kernelspec": {
   "display_name": "Python 3 (ipykernel)",
   "language": "python",
   "name": "python3"
  },
  "language_info": {
   "codemirror_mode": {
    "name": "ipython",
    "version": 3
   },
   "file_extension": ".py",
   "mimetype": "text/x-python",
   "name": "python",
   "nbconvert_exporter": "python",
   "pygments_lexer": "ipython3",
   "version": "3.9.13"
  }
 },
 "nbformat": 4,
 "nbformat_minor": 5
}
