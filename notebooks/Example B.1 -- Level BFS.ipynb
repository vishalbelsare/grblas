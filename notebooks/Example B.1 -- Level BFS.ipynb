{
 "cells": [
  {
   "cell_type": "markdown",
   "metadata": {},
   "source": [
    "## Example B.1 Level Breadth-first Search\n",
    "\n",
    "Examples come from https://people.eecs.berkeley.edu/~aydin/GraphBLAS_API_C_v13.pdf"
   ]
  },
  {
   "cell_type": "code",
   "execution_count": null,
   "metadata": {},
   "outputs": [],
   "source": [
    "import numpy as np\n",
    "import pandas as pd\n",
    "import networkx as nx\n",
    "import matplotlib.pyplot as plt\n",
    "import graphblas as gb\n",
    "from graphblas import Matrix, Vector, Scalar\n",
    "from graphblas import dtypes\n",
    "from graphblas import unary, binary, monoid, semiring"
   ]
  },
  {
   "cell_type": "code",
   "execution_count": null,
   "metadata": {},
   "outputs": [],
   "source": [
    "# Create initial data objects\n",
    "edges = [\n",
    "    [3, 0, 3, 5, 6, 0, 6, 1, 6, 2, 4, 1],\n",
    "    [0, 1, 2, 2, 2, 3, 3, 4, 4, 5, 5, 6],\n",
    "]\n",
    "A = Matrix.from_coo(edges[0], edges[1], [True for _ in edges[0]])\n",
    "s = 1"
   ]
  },
  {
   "cell_type": "code",
   "execution_count": null,
   "metadata": {},
   "outputs": [],
   "source": [
    "A"
   ]
  },
  {
   "cell_type": "code",
   "execution_count": null,
   "metadata": {},
   "outputs": [],
   "source": [
    "gb.viz.draw(A)"
   ]
  },
  {
   "cell_type": "markdown",
   "metadata": {},
   "source": [
    "### level breadth-first search (BFS) in GraphBLAS\n",
    "```\n",
    "1 #include <stdlib.h>\n",
    "2 #include <stdio.h>\n",
    "3 #include <stdint.h>\n",
    "4 #include <stdbool.h>\n",
    "5 #include ”GraphBLAS.h”\n",
    "6\n",
    "7 /*\n",
    "8  * Given a boolean n x n adjacency matrix A and a source vertex s, performs a BFS traversal\n",
    "9  * of the graph and sets v[i] to the level in which vertex i is visited ( v[s] == 1 ).\n",
    "10 * If i is not reachable from s, then v[i] = 0. ( Vector v should be empty on input. )\n",
    "11 */\n",
    "12 GrB_Info BFS( GrB Vector *v , GrB Matrix A, GrB Index s )\n",
    "13 {\n",
    "14   GrB_Index n;\n",
    "15   GrB_Matrix_nrows(&n, A); // n = # of rows of A\n",
    "16\n",
    "17   GrB_Vector_new(v, GrB_INT32, n); // Vector<int32_t> v(n)\n",
    "18\n",
    "19   GrB_Vector q; // vertices visited in each level\n",
    "20   GrB_Vector_new(&q ,GrB_BOOL, n); // Vector<bool> q (n )\n",
    "21   GrB_Vector_setElement(q , ( bool ) true , s ) ; // q[s] = true , false everywhere else\n",
    "22\n",
    "23   /*\n",
    "24    * BFS traversal and label the vertices.\n",
    "25    */\n",
    "26   int32_t d = 0 ; // d = level in BFS traversal\n",
    "27   bool succ = false ; // succ == true when some successor found\n",
    "28   do {\n",
    "29     ++d ; // next level ( startwith 1)\n",
    "30     GrB_assign (*v, q, GrB_NULL, d, GrB_ALL, n, GrB_NULL ) ; // v[q] = d\n",
    "31     GrB_vxm(q, *v, GrB_NULL, GrB_LOR_LAND_SEMIRING_BOOL,\n",
    "32             q, A, GrB_DESC_RC); // q[!v] = q ||.&& A ; finds all the\n",
    "33                                 // unvisited successors from current q\n",
    "34     GrB_reduce(&succ, GrB_NULL, GrB_LOR_MONOID_BOOL,\n",
    "35                q, GrB_NULL ) ; // succ = || ( q )\n",
    "36   } while ( succ ) ; // if there is no successor in q, we are done.\n",
    "37\n",
    "38   GrB_free (&q) ; // q vector no longer needed\n",
    "39\n",
    "40   return GrB_SUCCESS ;\n",
    "41 }\n",
    "```"
   ]
  },
  {
   "cell_type": "markdown",
   "metadata": {},
   "source": [
    "## Python implementation"
   ]
  },
  {
   "cell_type": "code",
   "execution_count": null,
   "metadata": {},
   "outputs": [],
   "source": [
    "n = A.nrows\n",
    "v = Vector(dtypes.INT32, n)\n",
    "q = Vector(bool, n)\n",
    "q[s] << True\n",
    "succ = Scalar(bool)"
   ]
  },
  {
   "cell_type": "code",
   "execution_count": null,
   "metadata": {},
   "outputs": [],
   "source": [
    "d = 0  # level in BFS traversal\n",
    "while True:\n",
    "    d += 1\n",
    "    # For the frontier, assign the depth level\n",
    "    v[:](mask=q.V) << d\n",
    "    # Compute the next frontier, masking out anything already assigned\n",
    "    q(~v.S, replace=True) << q.vxm(A, semiring.lor_land)\n",
    "    # If next frontier is empty, we're done\n",
    "    succ << q.reduce(monoid.lor, allow_empty=False)\n",
    "    if not succ:\n",
    "        break\n",
    "v"
   ]
  },
  {
   "cell_type": "markdown",
   "metadata": {},
   "source": [
    "Let's Step thru each loop to watch the action unfold"
   ]
  },
  {
   "cell_type": "code",
   "execution_count": null,
   "metadata": {},
   "outputs": [],
   "source": [
    "# Only run this cell once -- it initializes things\n",
    "v.clear()\n",
    "q.clear()\n",
    "q[s] << True\n",
    "d = 0"
   ]
  },
  {
   "cell_type": "code",
   "execution_count": null,
   "metadata": {},
   "outputs": [],
   "source": [
    "d += 1\n",
    "# For the frontier, assign the depth level\n",
    "v[:](mask=q.V) << d\n",
    "v"
   ]
  },
  {
   "cell_type": "code",
   "execution_count": null,
   "metadata": {},
   "outputs": [],
   "source": [
    "# Compute the next frontier, masking out anything already assigned\n",
    "q(~v.S, replace=True) << q.vxm(A, semiring.lor_land)\n",
    "q\n",
    "# These are the next layer of the BFS, prep'd for the next iteration"
   ]
  },
  {
   "cell_type": "code",
   "execution_count": null,
   "metadata": {},
   "outputs": [],
   "source": [
    "succ << q.reduce(monoid.lor, allow_empty=False)\n",
    "print(\"Continue\" if succ else \"Done\")"
   ]
  }
 ],
 "metadata": {
  "kernelspec": {
   "display_name": "Python 3 (ipykernel)",
   "language": "python",
   "name": "python3"
  },
  "language_info": {
   "codemirror_mode": {
    "name": "ipython",
    "version": 3
   },
   "file_extension": ".py",
   "mimetype": "text/x-python",
   "name": "python",
   "nbconvert_exporter": "python",
   "pygments_lexer": "ipython3",
   "version": "3.10.6"
  }
 },
 "nbformat": 4,
 "nbformat_minor": 4
}
