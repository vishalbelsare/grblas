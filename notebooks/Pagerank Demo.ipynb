{
 "cells": [
  {
   "cell_type": "code",
   "execution_count": null,
   "metadata": {},
   "outputs": [],
   "source": [
    "import graphblas as gb\n",
    "from graphblas import Matrix, Vector\n",
    "from graphblas import unary, binary, monoid, semiring, dtypes"
   ]
  },
  {
   "cell_type": "markdown",
   "metadata": {},
   "source": [
    "### Basic syntax\n",
    "\n",
    "Let's examine some basic graphblas syntax"
   ]
  },
  {
   "cell_type": "code",
   "execution_count": null,
   "metadata": {},
   "outputs": [],
   "source": [
    "A = Matrix.from_coo(\n",
    "    [0, 0, 1, 2, 2, 3, 4],\n",
    "    [1, 2, 3, 3, 4, 4, 0],\n",
    "    [1.1, 9.8, 4.2, 7.1, 0.2, 6.9, 2.2],\n",
    ")\n",
    "A"
   ]
  },
  {
   "cell_type": "code",
   "execution_count": null,
   "metadata": {},
   "outputs": [],
   "source": [
    "gb.viz.draw(A)"
   ]
  },
  {
   "cell_type": "code",
   "execution_count": null,
   "metadata": {},
   "outputs": [],
   "source": [
    "v = Vector(dtypes.FP64, 5)\n",
    "v"
   ]
  },
  {
   "cell_type": "code",
   "execution_count": null,
   "metadata": {},
   "outputs": [],
   "source": [
    "v << A.reduce_columnwise(monoid.max)\n",
    "v"
   ]
  },
  {
   "cell_type": "code",
   "execution_count": null,
   "metadata": {},
   "outputs": [],
   "source": [
    "A.mxv(v, semiring.min_plus).new(name=\"μ_0\")"
   ]
  },
  {
   "cell_type": "code",
   "execution_count": null,
   "metadata": {},
   "outputs": [],
   "source": []
  },
  {
   "cell_type": "markdown",
   "metadata": {},
   "source": [
    "### Compare with C\n",
    "\n",
    "Let's compare syntax from with the GraphBLAS C API.\n",
    "\n",
    "This is an example from `LAGraph_pagerank3f`\n",
    "\n",
    "```c++\n",
    "GrB_Info LAGraph_pagerank3f // PageRank definition\n",
    "(\n",
    "    GrB_Vector *result,     // output: array of LAGraph_PageRank structs\n",
    "    GrB_Matrix A,           // binary input graph, not modified\n",
    "    GrB_Vector d_out,       // outbound degree of all nodes (not modified)\n",
    "    float damping,          // damping factor (typically 0.85)\n",
    "    int itermax,            // maximum number of iterations\n",
    "    int *iters              // output: number of iterations taken\n",
    ")\n",
    "{\n",
    "\n",
    "    //--------------------------------------------------------------------------\n",
    "    // initializations\n",
    "    //--------------------------------------------------------------------------\n",
    "\n",
    "    GrB_Info info ;\n",
    "    GrB_Index n ;\n",
    "    GrB_Vector r = NULL, d = NULL, t = NULL, w = NULL ;\n",
    "    (*result) = NULL ;\n",
    "    LAGr_Matrix_nrows (&n, A) ;\n",
    "    GrB_Descriptor desc_t0 = GrB_DESC_T0 ;\n",
    "\n",
    "    const float teleport = (1 - damping) / n ;\n",
    "    const float tol = 1e-4 ;\n",
    "    float rdiff = 1 ;       // first iteration is always done\n",
    "\n",
    "    // r = 1 / n\n",
    "    LAGr_Vector_new (&t, GrB_FP32, n) ;\n",
    "    LAGr_Vector_new (&r, GrB_FP32, n) ;\n",
    "    LAGr_Vector_new (&w, GrB_FP32, n) ;\n",
    "    LAGr_assign (r, NULL, NULL, 1.0 / n, GrB_ALL, n, NULL) ;\n",
    "\n",
    "    // prescale with damping factor, so it isn't done each iteration\n",
    "    // d = d_out / damping ;\n",
    "    LAGr_Vector_dup (&d, d_out) ;\n",
    "    LAGr_assign (d, NULL, GrB_DIV_FP32, damping, GrB_ALL, n, NULL) ;\n",
    "\n",
    "    //--------------------------------------------------------------------------\n",
    "    // pagerank iterations\n",
    "    //--------------------------------------------------------------------------\n",
    "\n",
    "    for ((*iters) = 0 ; (*iters) < itermax && rdiff > tol ; (*iters)++)\n",
    "    {\n",
    "        // swap t and r ; now t is the old score\n",
    "        GrB_Vector temp = t ; t = r ; r = temp ;\n",
    "\n",
    "        // w = t ./ d\n",
    "        LAGr_eWiseMult (w, NULL, NULL, GrB_DIV_FP32, t, d, NULL) ;\n",
    "\n",
    "        // r = teleport\n",
    "        LAGr_assign (r, NULL, NULL, teleport, GrB_ALL, n, NULL) ;\n",
    "\n",
    "        // r += A'*w\n",
    "        LAGr_mxv (r, NULL, GrB_PLUS_FP32, GxB_PLUS_SECOND_FP32, A, w, desc_t0) ;\n",
    "\n",
    "        // t -= r\n",
    "        LAGr_assign (t, NULL, GrB_MINUS_FP32, r, GrB_ALL, n, NULL) ;\n",
    "\n",
    "        // t = abs (t)\n",
    "        LAGr_apply (t, NULL, NULL, GxB_ABS_FP32, t, NULL) ;\n",
    "\n",
    "        // rdiff = sum (t)\n",
    "        LAGr_reduce (&rdiff, NULL, GxB_PLUS_FP32_MONOID, t, NULL) ;\n",
    "    }\n",
    "```"
   ]
  },
  {
   "cell_type": "code",
   "execution_count": null,
   "metadata": {},
   "outputs": [],
   "source": [
    "def pagerank_3f(A, d_out, damping=0.85, itermax=100, tol=1e-4):\n",
    "    \"\"\"\n",
    "    Returns (result as Vector, iters as int)\n",
    "    \"\"\"\n",
    "    n = A.nrows\n",
    "    teleport = (1 - damping) / n\n",
    "    rdiff = 1  # first iteration is always done\n",
    "\n",
    "    # r = 1 / n\n",
    "    t = Vector(dtypes.FP32, n)\n",
    "    r = Vector(dtypes.FP32, n)\n",
    "    w = Vector(dtypes.FP32, n)\n",
    "    r[:] << 1.0 / n\n",
    "\n",
    "    # prescale with damping factor, so it isn't done each iteration\n",
    "    # d = d_out / damping\n",
    "    d = d_out.dup(dtype=\"FP32\")\n",
    "    d(accum=binary.truediv)[:] << damping\n",
    "\n",
    "    # --------------------------------------------------------------------------\n",
    "    # pagerank iterations\n",
    "    # --------------------------------------------------------------------------\n",
    "    for i in range(itermax):\n",
    "        if rdiff <= tol:\n",
    "            break\n",
    "\n",
    "        # swap t and r ; now t is the old score\n",
    "        r, t = t, r\n",
    "\n",
    "        # w = t ./ d\n",
    "        w << t.ewise_mult(d, binary.truediv)\n",
    "\n",
    "        # r = teleport\n",
    "        r[:] << teleport\n",
    "\n",
    "        # r += A'*w\n",
    "        r(binary.plus) << A.T.mxv(w, semiring.plus_second)\n",
    "\n",
    "        # t -= r\n",
    "        t(binary.minus)[:] << r\n",
    "\n",
    "        # t = abs (t)\n",
    "        t << t.apply(unary.abs)\n",
    "\n",
    "        # rdiff = sum (t)\n",
    "        rdiff = t.reduce(monoid.plus).value\n",
    "\n",
    "    return r, i"
   ]
  },
  {
   "cell_type": "code",
   "execution_count": null,
   "metadata": {},
   "outputs": [],
   "source": [
    "A"
   ]
  },
  {
   "cell_type": "code",
   "execution_count": null,
   "metadata": {},
   "outputs": [],
   "source": [
    "# Pagerank requires binary input graph\n",
    "A << A.apply(unary.one)\n",
    "A"
   ]
  },
  {
   "cell_type": "code",
   "execution_count": null,
   "metadata": {},
   "outputs": [],
   "source": [
    "# Compute outbound degree of nodes\n",
    "d_out = A.reduce_rowwise(monoid.plus).new()\n",
    "d_out"
   ]
  },
  {
   "cell_type": "code",
   "execution_count": null,
   "metadata": {},
   "outputs": [],
   "source": [
    "result, iters = pagerank_3f(A, d_out)"
   ]
  },
  {
   "cell_type": "code",
   "execution_count": null,
   "metadata": {},
   "outputs": [],
   "source": [
    "result"
   ]
  },
  {
   "cell_type": "code",
   "execution_count": null,
   "metadata": {},
   "outputs": [],
   "source": [
    "iters"
   ]
  },
  {
   "cell_type": "markdown",
   "metadata": {},
   "source": [
    "### Compare with networkx for accuracy"
   ]
  },
  {
   "cell_type": "code",
   "execution_count": null,
   "metadata": {},
   "outputs": [],
   "source": [
    "import networkx as nx\n",
    "\n",
    "g = gb.io.to_networkx(A)\n",
    "g.edges()"
   ]
  },
  {
   "cell_type": "code",
   "execution_count": null,
   "metadata": {},
   "outputs": [],
   "source": [
    "nx.pagerank(g, tol=1e-4)"
   ]
  },
  {
   "cell_type": "markdown",
   "metadata": {},
   "source": [
    "### Compare with networkx for speed\n",
    "\n",
    "Need a larger graph for this test"
   ]
  },
  {
   "cell_type": "code",
   "execution_count": null,
   "metadata": {},
   "outputs": [],
   "source": [
    "big = nx.erdos_renyi_graph(1000, 0.04, directed=True)"
   ]
  },
  {
   "cell_type": "code",
   "execution_count": null,
   "metadata": {},
   "outputs": [],
   "source": [
    "%%timeit\n",
    "pr = nx.pagerank(big, tol=1e-6)"
   ]
  },
  {
   "cell_type": "code",
   "execution_count": null,
   "metadata": {},
   "outputs": [],
   "source": [
    "B = gb.io.from_networkx(big, dtype=\"UINT8\")\n",
    "B"
   ]
  },
  {
   "cell_type": "code",
   "execution_count": null,
   "metadata": {},
   "outputs": [],
   "source": [
    "%%timeit\n",
    "bd_out = B.reduce_rowwise(monoid.plus).new()\n",
    "results, iter = pagerank_3f(B, bd_out, tol=1e-6)"
   ]
  },
  {
   "cell_type": "code",
   "execution_count": null,
   "metadata": {},
   "outputs": [],
   "source": [
    "# timeit doesn't save variables, so recompute\n",
    "pr = nx.pagerank(big, tol=1e-6)\n",
    "bd_out = B.reduce_rowwise(monoid.plus).new()\n",
    "results, iter = pagerank_3f(B, bd_out, tol=1e-6)"
   ]
  },
  {
   "cell_type": "code",
   "execution_count": null,
   "metadata": {},
   "outputs": [],
   "source": [
    "iter"
   ]
  },
  {
   "cell_type": "code",
   "execution_count": null,
   "metadata": {},
   "outputs": [],
   "source": [
    "results"
   ]
  },
  {
   "cell_type": "code",
   "execution_count": null,
   "metadata": {},
   "outputs": [],
   "source": [
    "# Only look at first 10 results from networkx\n",
    "{k: v for k, v in pr.items() if k < 10}"
   ]
  },
  {
   "cell_type": "code",
   "execution_count": null,
   "metadata": {},
   "outputs": [],
   "source": [
    "# Verify all results match\n",
    "all(abs(results[i].value - pr[i]) < 1e-5 for i in range(1000))"
   ]
  }
 ],
 "metadata": {
  "kernelspec": {
   "display_name": "Python 3 (ipykernel)",
   "language": "python",
   "name": "python3"
  },
  "language_info": {
   "codemirror_mode": {
    "name": "ipython",
    "version": 3
   },
   "file_extension": ".py",
   "mimetype": "text/x-python",
   "name": "python",
   "nbconvert_exporter": "python",
   "pygments_lexer": "ipython3",
   "version": "3.10.6"
  }
 },
 "nbformat": 4,
 "nbformat_minor": 4
}
