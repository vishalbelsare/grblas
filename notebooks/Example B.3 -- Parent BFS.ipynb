{
 "cells": [
  {
   "cell_type": "markdown",
   "metadata": {},
   "source": [
    "## Example B.3 Parent Breadth-first Search\n",
    "\n",
    "Examples come from https://people.eecs.berkeley.edu/~aydin/GraphBLAS_API_C_v13.pdf"
   ]
  },
  {
   "cell_type": "code",
   "execution_count": null,
   "metadata": {},
   "outputs": [],
   "source": [
    "import numpy as np\n",
    "import pandas as pd\n",
    "import networkx as nx\n",
    "import matplotlib.pyplot as plt\n",
    "import graphblas as gb\n",
    "from graphblas import Matrix, Vector, Scalar\n",
    "from graphblas import dtypes\n",
    "from graphblas import unary, binary, monoid, semiring"
   ]
  },
  {
   "cell_type": "code",
   "execution_count": null,
   "metadata": {},
   "outputs": [],
   "source": [
    "# Create initial data objects\n",
    "edges = [\n",
    "    [3, 0, 3, 5, 6, 0, 6, 1, 6, 2, 4, 1],\n",
    "    [0, 1, 2, 2, 2, 3, 3, 4, 4, 5, 5, 6],\n",
    "]\n",
    "A = Matrix.from_coo(edges[0], edges[1], [True for _ in edges[0]])\n",
    "s = 1"
   ]
  },
  {
   "cell_type": "code",
   "execution_count": null,
   "metadata": {},
   "outputs": [],
   "source": [
    "gb.viz.draw(A)"
   ]
  },
  {
   "cell_type": "markdown",
   "metadata": {},
   "source": [
    "### parent breadth-first search (BFS) in GraphBLAS\n",
    "```\n",
    "1 #include <stdlib.h>\n",
    "2 #include <stdio.h>\n",
    "3 #include <stdint.h>\n",
    "4 #include <stdbool.h>\n",
    "5 #include ”GraphBLAS.h”\n",
    "6\n",
    "7 /∗\n",
    "8  ∗ Given a binary n x n adjacency matrix A and a source vertex s, performs a BFS\n",
    "9  ∗ traversal of the graph and sets parents[i] to the index i's parent.\n",
    "10 ∗ The parent of the root vertex, s, will be set to itself (parents[s] == s). If\n",
    "11 ∗ vertex i is not reachable from s, parents[i] will not contain a stored value.\n",
    "12 ∗/\n",
    "13 GrB_Info BFS(GrB_Vector *v, const GrB_Matrix A, GrB_Index s)\n",
    "14 {\n",
    "15   GrB_Index N;\n",
    "16   GrB_Matrix nrows(&N, A); // N = # of rows of A\n",
    "17\n",
    "18   // create index ramp for index_of() functionality\n",
    "19   GrB_Index *idx = (GrB_Index *) malloc (N*sizeof(GrB_Index));\n",
    "20   for (GrB_Index i = 0; i < N; ++i) idx[i] = i;\n",
    "21   GrB_Vector index_ramp;\n",
    "22   GrB_Vector_new(&index_ramp, GrB_UINT64, N);\n",
    "23   GrB_Vector_build_UINT64(index_ramp, idx, idx, N, GrB_PLUS_INT64);\n",
    "24   free(idx);\n",
    "25\n",
    "26   GrB_Vector_new(parents, GrB_UINT64, N);\n",
    "27   GrB_Vector_setElement(*parents, s, s); // parents[s] = s\n",
    "28\n",
    "29   GrB_Vector wavefront;\n",
    "30   GrB_Vector_new(&wavefront, GrB_UINT64, N);\n",
    "31   GrB_Vector_setElement(wavefront, 1UL, s); // wavefront[s] = 1\n",
    "18   GrB_Vector_new(v, GrB_INT32, N) ; // Vector<int32_t> v(n) = 0\n",
    "19\n",
    "33   /∗\n",
    "34    ∗ BFS traversal and label the vertices.\n",
    "35    ∗/\n",
    "36   GrB_Index nvals;\n",
    "37   GrB_Vector_nvals(&nvals, wavefront);\n",
    "38   \n",
    "39   while (nvals > 0) \n",
    "40   {\n",
    "41     // convert all stored values in wavefront to their 0−based index\n",
    "42     GrB_eWiseMult(wavefront, GrB_NULL, GrB_NULL, GrB_FIRST_UINT64,\n",
    "43     index_ramp, wavefront, GrB_NULL);\n",
    "44\n",
    "45     // ”FIRST” because left−multiplying wavefront rows. Masking out the parent\n",
    "46     // list ensures wavefront values do not overwrite parents already stored.\n",
    "47     GrB_vxm(wavefront, * parents, GrB_NULL, GrB_MIN_FIRST_SEMIRING_UINT64,\n",
    "48             wavefront, A, GrB_DESC_RSC);\n",
    "49\n",
    "50     // Don’t need to mask here since we did it in mxm. Merges new parents in\n",
    "51     // current wave front with existing parents : parents += wavefront\n",
    "52     GrB_apply(* parents, GrB_NULL, GrB_PLUS_UINT64,\n",
    "53     GrB_IDENTITY_UINT64, wavefront, GrB_NULL);\n",
    "54\n",
    "55     GrB_Vector_nvals(&nvals, wavefront);\n",
    "56   }\n",
    "57\n",
    "58   GrB_free(&wavefront);\n",
    "59   GrB_free(&index_ramp);\n",
    "60\n",
    "61   return GrB_SUCCESS;\n",
    "62 }\n",
    "```"
   ]
  },
  {
   "cell_type": "markdown",
   "metadata": {},
   "source": [
    "## Python implementation"
   ]
  },
  {
   "cell_type": "code",
   "execution_count": null,
   "metadata": {},
   "outputs": [],
   "source": [
    "N = A.nrows\n",
    "index_ramp = Vector(dtypes.UINT64, N)\n",
    "index_ramp.build(range(N), range(N))\n",
    "parents = Vector(dtypes.UINT64, N)\n",
    "parents[s] << s\n",
    "wavefront = Vector(dtypes.UINT64, N)\n",
    "wavefront[s] << 1"
   ]
  },
  {
   "cell_type": "code",
   "execution_count": null,
   "metadata": {},
   "outputs": [],
   "source": [
    "while wavefront.nvals > 0:\n",
    "    # convert all stored values in wavefront to their 0−based index\n",
    "    wavefront << index_ramp.ewise_mult(wavefront, binary.first)\n",
    "    # ”FIRST” because left−multiplying wavefront rows. Masking out the parent\n",
    "    # list ensures wavefront values do not overwrite parents already stored.\n",
    "    wavefront(~parents.S, replace=True) << wavefront.vxm(A, semiring.min_first)\n",
    "    # Don’t need to mask here since we did it in mxm. Merges new parents in\n",
    "    # current wave front with existing parents : parents += wavefront\n",
    "    parents(binary.plus) << wavefront\n",
    "parents"
   ]
  },
  {
   "cell_type": "markdown",
   "metadata": {},
   "source": [
    "Let's Step thru each loop to watch the action unfold"
   ]
  },
  {
   "cell_type": "code",
   "execution_count": null,
   "metadata": {},
   "outputs": [],
   "source": [
    "# Only run this cell once -- it initializes things\n",
    "parents.clear()\n",
    "parents[s] << s\n",
    "wavefront.clear()\n",
    "wavefront[s] << 1"
   ]
  },
  {
   "cell_type": "code",
   "execution_count": null,
   "metadata": {},
   "outputs": [],
   "source": [
    "print(\"Proceed\" if wavefront.nvals > 0 else \"Done\")"
   ]
  },
  {
   "cell_type": "code",
   "execution_count": null,
   "metadata": {},
   "outputs": [],
   "source": [
    "# convert all stored values in wavefront to their 0−based index\n",
    "wavefront << index_ramp.ewise_mult(wavefront, binary.first)\n",
    "wavefront"
   ]
  },
  {
   "cell_type": "code",
   "execution_count": null,
   "metadata": {},
   "outputs": [],
   "source": [
    "# ”FIRST” because left−multiplying wavefront rows. Masking out the parent\n",
    "# list ensures wavefront values do not overwrite parents already stored.\n",
    "wavefront(~parents.S, replace=True) << wavefront.vxm(A, semiring.min_first)\n",
    "wavefront"
   ]
  },
  {
   "cell_type": "code",
   "execution_count": null,
   "metadata": {},
   "outputs": [],
   "source": [
    "# Don’t need to mask here since we did it in mxm. Merges new parents in\n",
    "# current wave front with existing parents : parents += wavefront\n",
    "parents(binary.plus) << wavefront\n",
    "parents"
   ]
  },
  {
   "cell_type": "markdown",
   "metadata": {},
   "source": []
  }
 ],
 "metadata": {
  "kernelspec": {
   "display_name": "Python 3 (ipykernel)",
   "language": "python",
   "name": "python3"
  },
  "language_info": {
   "codemirror_mode": {
    "name": "ipython",
    "version": 3
   },
   "file_extension": ".py",
   "mimetype": "text/x-python",
   "name": "python",
   "nbconvert_exporter": "python",
   "pygments_lexer": "ipython3",
   "version": "3.10.6"
  }
 },
 "nbformat": 4,
 "nbformat_minor": 4
}
